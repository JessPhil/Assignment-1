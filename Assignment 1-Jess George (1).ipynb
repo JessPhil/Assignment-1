{
 "cells": [
  {
   "cell_type": "code",
   "execution_count": 1,
   "id": "3fa976f3",
   "metadata": {},
   "outputs": [
    {
     "name": "stdout",
     "output_type": "stream",
     "text": [
      "Collecting numpy_financial\n",
      "  Downloading numpy_financial-1.0.0-py3-none-any.whl (14 kB)\n",
      "Requirement already satisfied: numpy>=1.15 in c:\\users\\jezzg\\downloads\\new folder\\lib\\site-packages (from numpy_financial) (1.21.5)\n",
      "Installing collected packages: numpy_financial\n",
      "Successfully installed numpy_financial-1.0.0\n",
      "Note: you may need to restart the kernel to use updated packages.\n"
     ]
    }
   ],
   "source": [
    "pip install numpy_financial"
   ]
  },
  {
   "cell_type": "code",
   "execution_count": 39,
   "id": "97a83ba2",
   "metadata": {},
   "outputs": [],
   "source": [
    "import pandas as pd\n",
    "import numpy as np\n",
    "import matplotlib.pyplot as plt\n",
    "import numpy_financial as npf"
   ]
  },
  {
   "cell_type": "markdown",
   "id": "8aeb00cf",
   "metadata": {},
   "source": [
    "#Question 1- What is the present value of $418 received in 12 years with an annual discount rate of 2.2%?"
   ]
  },
  {
   "cell_type": "code",
   "execution_count": 26,
   "id": "524687f9",
   "metadata": {},
   "outputs": [],
   "source": [
    "i = 0.022\n",
    "FV = 418\n",
    "N = 12"
   ]
  },
  {
   "cell_type": "code",
   "execution_count": 27,
   "id": "1f5a90b8",
   "metadata": {},
   "outputs": [
    {
     "data": {
      "text/plain": [
       "321.9330263298923"
      ]
     },
     "execution_count": 27,
     "metadata": {},
     "output_type": "execute_result"
    }
   ],
   "source": [
    "PV = FV/(1 + i)**N\n",
    "PV"
   ]
  },
  {
   "cell_type": "code",
   "execution_count": 28,
   "id": "353c180d",
   "metadata": {},
   "outputs": [
    {
     "name": "stdout",
     "output_type": "stream",
     "text": [
      "The Present value of $418 received in 12 years is $321.93\n"
     ]
    }
   ],
   "source": [
    "print('The Present value of $418 received in 12 years is' + ' ' + '$' + '%.2f'% PV)"
   ]
  },
  {
   "cell_type": "markdown",
   "id": "7d5bfbe3",
   "metadata": {},
   "source": [
    "#Question 2- If you deposit $2,400 in the bank for 15 years and the annual interest rate is 1.75%,what is the future value of your deposit in 15 years."
   ]
  },
  {
   "cell_type": "code",
   "execution_count": 32,
   "id": "17b95975",
   "metadata": {},
   "outputs": [],
   "source": [
    "i = 0.0175\n",
    "PV = 2400\n",
    "N = 15"
   ]
  },
  {
   "cell_type": "code",
   "execution_count": 33,
   "id": "0a6f8731",
   "metadata": {},
   "outputs": [
    {
     "data": {
      "text/plain": [
       "3113.3468726281876"
      ]
     },
     "execution_count": 33,
     "metadata": {},
     "output_type": "execute_result"
    }
   ],
   "source": [
    "FV = PV*(1 + i)**N\n",
    "FV"
   ]
  },
  {
   "cell_type": "code",
   "execution_count": 35,
   "id": "c2549fc5",
   "metadata": {},
   "outputs": [
    {
     "name": "stdout",
     "output_type": "stream",
     "text": [
      "The Future Value of $2400 after 15 years of deposit is $3113.35\n"
     ]
    }
   ],
   "source": [
    "print('The Future Value of $2400 after 15 years of deposit is' + ' ' + '$' + '%.2f'% FV)"
   ]
  },
  {
   "cell_type": "markdown",
   "id": "73ef434d",
   "metadata": {},
   "source": [
    "#Question 3- A capital investment in an equipment with an upfront cost of $23,540 will provide you with the following annual cash flow stream (paid end of year):Calculate the NPV of the investment and comment on whether you should invest in the project. Why or why not? The required rate of return is 3.5%"
   ]
  },
  {
   "cell_type": "code",
   "execution_count": 41,
   "id": "9b26b10f",
   "metadata": {},
   "outputs": [
    {
     "data": {
      "text/plain": [
       "-467.0009444385264"
      ]
     },
     "execution_count": 41,
     "metadata": {},
     "output_type": "execute_result"
    }
   ],
   "source": [
    "cashflows = [-23540,2000,1456,3230,6850,2384,1234,5987,4190]\n",
    "NPV = npf.npv(0.035,cashflows)\n",
    "NPV"
   ]
  },
  {
   "cell_type": "code",
   "execution_count": 43,
   "id": "6391ffa1",
   "metadata": {},
   "outputs": [
    {
     "name": "stdout",
     "output_type": "stream",
     "text": [
      "The Net Present Value of the investment is $-467.00\n",
      "We decide not to invest in the project since the NPV is less than zero\n"
     ]
    }
   ],
   "source": [
    "print('The Net Present Value of the investment is' + ' ' + '$' + '%.2f'% NPV)\n",
    "print('We decide not to invest in the project since the NPV is less than zero')"
   ]
  },
  {
   "cell_type": "markdown",
   "id": "6d81f88b",
   "metadata": {},
   "source": [
    "#Question 4-Explain what the time value of money is and why it is so important in the field of finance."
   ]
  },
  {
   "cell_type": "markdown",
   "id": "11897fd9",
   "metadata": {},
   "source": [
    "Time Value of money(TMV) means that a sum of money which you have in your hand today is worth more than the same amount of money that you have tomorrow. This is because of the earnings potential of the money to be invested. So delaying our investment each day is a lost opportunity.The Time Value of Money(TMV) is an important principle in the field of finance. The three main reasons for TMV is inflation, risk and liquidity. Therefore, it is always crucial for an investor to understand this concept and decide to invest money in his hand today to earn interest or capital gains."
   ]
  },
  {
   "cell_type": "code",
   "execution_count": null,
   "id": "72521de2",
   "metadata": {},
   "outputs": [],
   "source": []
  }
 ],
 "metadata": {
  "kernelspec": {
   "display_name": "Python 3 (ipykernel)",
   "language": "python",
   "name": "python3"
  },
  "language_info": {
   "codemirror_mode": {
    "name": "ipython",
    "version": 3
   },
   "file_extension": ".py",
   "mimetype": "text/x-python",
   "name": "python",
   "nbconvert_exporter": "python",
   "pygments_lexer": "ipython3",
   "version": "3.9.13"
  }
 },
 "nbformat": 4,
 "nbformat_minor": 5
}
